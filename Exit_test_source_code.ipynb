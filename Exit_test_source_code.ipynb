{
 "cells": [
  {
   "cell_type": "code",
   "execution_count": 51,
   "id": "6d6a286f",
   "metadata": {},
   "outputs": [],
   "source": [
    "import pandas as pd\n",
    "import numpy as np\n",
    "\n",
    "import matplotlib.pyplot as plt\n",
    "import seaborn as sns\n",
    "\n",
    "import warnings\n",
    "warnings.filterwarnings('ignore')"
   ]
  },
  {
   "cell_type": "code",
   "execution_count": 2,
   "id": "a6899d64",
   "metadata": {},
   "outputs": [
    {
     "data": {
      "text/html": [
       "<div>\n",
       "<style scoped>\n",
       "    .dataframe tbody tr th:only-of-type {\n",
       "        vertical-align: middle;\n",
       "    }\n",
       "\n",
       "    .dataframe tbody tr th {\n",
       "        vertical-align: top;\n",
       "    }\n",
       "\n",
       "    .dataframe thead th {\n",
       "        text-align: right;\n",
       "    }\n",
       "</style>\n",
       "<table border=\"1\" class=\"dataframe\">\n",
       "  <thead>\n",
       "    <tr style=\"text-align: right;\">\n",
       "      <th></th>\n",
       "      <th>CustomerID</th>\n",
       "      <th>Age</th>\n",
       "      <th>Gender</th>\n",
       "      <th>City</th>\n",
       "      <th>is_Married</th>\n",
       "      <th>family_size</th>\n",
       "      <th>height</th>\n",
       "      <th>annual_income</th>\n",
       "      <th>job</th>\n",
       "      <th>is_physically_ok</th>\n",
       "      <th>has_taken_car_loan</th>\n",
       "      <th>preferable_fuel_choice</th>\n",
       "      <th>vehicle_choice</th>\n",
       "    </tr>\n",
       "  </thead>\n",
       "  <tbody>\n",
       "    <tr>\n",
       "      <th>0</th>\n",
       "      <td>CusID_00000</td>\n",
       "      <td>36.0</td>\n",
       "      <td>Male</td>\n",
       "      <td>New York City</td>\n",
       "      <td>Divorced</td>\n",
       "      <td>2.0</td>\n",
       "      <td>160.0</td>\n",
       "      <td>32200.0</td>\n",
       "      <td>Service</td>\n",
       "      <td>Yes</td>\n",
       "      <td>Yes</td>\n",
       "      <td>Hybrid</td>\n",
       "      <td>Sedan</td>\n",
       "    </tr>\n",
       "    <tr>\n",
       "      <th>1</th>\n",
       "      <td>CusID_00001</td>\n",
       "      <td>15.0</td>\n",
       "      <td>Female</td>\n",
       "      <td>New York City</td>\n",
       "      <td>Single</td>\n",
       "      <td>1.0</td>\n",
       "      <td>143.0</td>\n",
       "      <td>9000.0</td>\n",
       "      <td>Service</td>\n",
       "      <td>Yes</td>\n",
       "      <td>Yes</td>\n",
       "      <td>Petrol</td>\n",
       "      <td>Compact Utility Vehicle</td>\n",
       "    </tr>\n",
       "    <tr>\n",
       "      <th>2</th>\n",
       "      <td>CusID_00002</td>\n",
       "      <td>55.0</td>\n",
       "      <td>Male</td>\n",
       "      <td>Paris</td>\n",
       "      <td>Married</td>\n",
       "      <td>2.0</td>\n",
       "      <td>168.0</td>\n",
       "      <td>152400.0</td>\n",
       "      <td>Service</td>\n",
       "      <td>Yes</td>\n",
       "      <td>No</td>\n",
       "      <td>Petrol</td>\n",
       "      <td>Sports Sedan</td>\n",
       "    </tr>\n",
       "    <tr>\n",
       "      <th>3</th>\n",
       "      <td>CusID_00003</td>\n",
       "      <td>23.0</td>\n",
       "      <td>Male</td>\n",
       "      <td>Vancouver</td>\n",
       "      <td>Divorced</td>\n",
       "      <td>3.0</td>\n",
       "      <td>165.0</td>\n",
       "      <td>141140.0</td>\n",
       "      <td>Business</td>\n",
       "      <td>Yes</td>\n",
       "      <td>No</td>\n",
       "      <td>Diesel</td>\n",
       "      <td>Sportscar</td>\n",
       "    </tr>\n",
       "    <tr>\n",
       "      <th>4</th>\n",
       "      <td>CusID_00004</td>\n",
       "      <td>23.0</td>\n",
       "      <td>Not_Specified</td>\n",
       "      <td>Vancouver</td>\n",
       "      <td>Single</td>\n",
       "      <td>1.0</td>\n",
       "      <td>147.0</td>\n",
       "      <td>38100.0</td>\n",
       "      <td>Service</td>\n",
       "      <td>Yes</td>\n",
       "      <td>Yes</td>\n",
       "      <td>Hybrid</td>\n",
       "      <td>Sports Utility Vehicle</td>\n",
       "    </tr>\n",
       "  </tbody>\n",
       "</table>\n",
       "</div>"
      ],
      "text/plain": [
       "    CustomerID   Age         Gender           City is_Married  family_size  \\\n",
       "0  CusID_00000  36.0           Male  New York City   Divorced          2.0   \n",
       "1  CusID_00001  15.0         Female  New York City     Single          1.0   \n",
       "2  CusID_00002  55.0           Male          Paris    Married          2.0   \n",
       "3  CusID_00003  23.0           Male      Vancouver   Divorced          3.0   \n",
       "4  CusID_00004  23.0  Not_Specified      Vancouver     Single          1.0   \n",
       "\n",
       "   height  annual_income       job is_physically_ok has_taken_car_loan  \\\n",
       "0   160.0        32200.0   Service              Yes                Yes   \n",
       "1   143.0         9000.0   Service              Yes                Yes   \n",
       "2   168.0       152400.0   Service              Yes                 No   \n",
       "3   165.0       141140.0  Business              Yes                 No   \n",
       "4   147.0        38100.0   Service              Yes                Yes   \n",
       "\n",
       "  preferable_fuel_choice           vehicle_choice  \n",
       "0                 Hybrid                    Sedan  \n",
       "1                 Petrol  Compact Utility Vehicle  \n",
       "2                 Petrol             Sports Sedan  \n",
       "3                 Diesel                Sportscar  \n",
       "4                 Hybrid   Sports Utility Vehicle  "
      ]
     },
     "execution_count": 2,
     "metadata": {},
     "output_type": "execute_result"
    }
   ],
   "source": [
    "df = pd.read_csv(\"train.csv\")\n",
    "df.head()"
   ]
  },
  {
   "cell_type": "code",
   "execution_count": 3,
   "id": "f4ea4f5f",
   "metadata": {},
   "outputs": [
    {
     "name": "stdout",
     "output_type": "stream",
     "text": [
      "<class 'pandas.core.frame.DataFrame'>\n",
      "RangeIndex: 30000 entries, 0 to 29999\n",
      "Data columns (total 13 columns):\n",
      " #   Column                  Non-Null Count  Dtype  \n",
      "---  ------                  --------------  -----  \n",
      " 0   CustomerID              30000 non-null  object \n",
      " 1   Age                     29561 non-null  float64\n",
      " 2   Gender                  29583 non-null  object \n",
      " 3   City                    29577 non-null  object \n",
      " 4   is_Married              29580 non-null  object \n",
      " 5   family_size             29586 non-null  float64\n",
      " 6   height                  29569 non-null  float64\n",
      " 7   annual_income           29581 non-null  float64\n",
      " 8   job                     29572 non-null  object \n",
      " 9   is_physically_ok        29578 non-null  object \n",
      " 10  has_taken_car_loan      29569 non-null  object \n",
      " 11  preferable_fuel_choice  29572 non-null  object \n",
      " 12  vehicle_choice          30000 non-null  object \n",
      "dtypes: float64(4), object(9)\n",
      "memory usage: 3.0+ MB\n"
     ]
    }
   ],
   "source": [
    "df.info()"
   ]
  },
  {
   "cell_type": "markdown",
   "id": "1d003a6d",
   "metadata": {},
   "source": [
    "## Handling Null Values"
   ]
  },
  {
   "cell_type": "code",
   "execution_count": 4,
   "id": "c173ad9a",
   "metadata": {},
   "outputs": [
    {
     "data": {
      "text/plain": [
       "CustomerID                  0\n",
       "Age                       439\n",
       "Gender                    417\n",
       "City                      423\n",
       "is_Married                420\n",
       "family_size               414\n",
       "height                    431\n",
       "annual_income             419\n",
       "job                       428\n",
       "is_physically_ok          422\n",
       "has_taken_car_loan        431\n",
       "preferable_fuel_choice    428\n",
       "vehicle_choice              0\n",
       "dtype: int64"
      ]
     },
     "execution_count": 4,
     "metadata": {},
     "output_type": "execute_result"
    }
   ],
   "source": [
    "df.isna().sum()"
   ]
  },
  {
   "cell_type": "code",
   "execution_count": 9,
   "id": "9e3aa84a",
   "metadata": {},
   "outputs": [],
   "source": [
    "df.drop(columns=\"CustomerID\",inplace=True)"
   ]
  },
  {
   "cell_type": "code",
   "execution_count": 13,
   "id": "c1c19e9f",
   "metadata": {},
   "outputs": [],
   "source": [
    "df[\"Age\"].fillna(df[\"Age\"].mean(),inplace=True)\n",
    "df[\"Gender\"].fillna(df[\"Gender\"].mode()[0],inplace=True)\n",
    "df[\"City\"].fillna(df[\"City\"].mode()[0],inplace=True)\n",
    "df[\"is_Married\"].fillna(df[\"is_Married\"].mode()[0],inplace=True)\n",
    "df[\"family_size\"].fillna(df[\"family_size\"].mean(),inplace=True)\n",
    "df[\"height\"].fillna(df[\"height\"].mean(),inplace=True)\n",
    "df[\"annual_income\"].fillna(df[\"annual_income\"].mean(),inplace=True)\n",
    "df[\"job\"].fillna(df[\"job\"].mode()[0],inplace=True)\n",
    "df[\"is_physically_ok\"].fillna(df[\"is_physically_ok\"].mode()[0],inplace=True)\n",
    "df[\"has_taken_car_loan\"].fillna(df[\"has_taken_car_loan\"].mode()[0],inplace=True)\n",
    "df[\"preferable_fuel_choice\"].fillna(df[\"preferable_fuel_choice\"].mode()[0],inplace=True)"
   ]
  },
  {
   "cell_type": "code",
   "execution_count": 14,
   "id": "44d997d3",
   "metadata": {},
   "outputs": [
    {
     "data": {
      "text/plain": [
       "Age                       0\n",
       "Gender                    0\n",
       "City                      0\n",
       "is_Married                0\n",
       "family_size               0\n",
       "height                    0\n",
       "annual_income             0\n",
       "job                       0\n",
       "is_physically_ok          0\n",
       "has_taken_car_loan        0\n",
       "preferable_fuel_choice    0\n",
       "vehicle_choice            0\n",
       "dtype: int64"
      ]
     },
     "execution_count": 14,
     "metadata": {},
     "output_type": "execute_result"
    }
   ],
   "source": [
    "df.isna().sum()"
   ]
  },
  {
   "cell_type": "code",
   "execution_count": 15,
   "id": "d80ed3b7",
   "metadata": {},
   "outputs": [
    {
     "data": {
      "text/plain": [
       "18"
      ]
     },
     "execution_count": 15,
     "metadata": {},
     "output_type": "execute_result"
    }
   ],
   "source": [
    "df['vehicle_choice'].nunique()"
   ]
  },
  {
   "cell_type": "markdown",
   "id": "864a5d50",
   "metadata": {},
   "source": [
    "## Handling outlier"
   ]
  },
  {
   "cell_type": "code",
   "execution_count": 35,
   "id": "be21ba55",
   "metadata": {},
   "outputs": [
    {
     "data": {
      "image/png": "[encoded data removed]",
      "text/plain": [
       "<Figure size 1800x576 with 3 Axes>"
      ]
     },
     "metadata": {
      "needs_background": "light"
     },
     "output_type": "display_data"
    }
   ],
   "source": [
    "col_num=df.select_dtypes(include=[\"int64\",\"float64\"]).columns.tolist()\n",
    "fig,axs=plt.subplots(1,3,figsize=(25,8))\n",
    "fig.suptitle(\"Box plot of numeric features to detect outliers\",y=0.99,fontweight=\"bold\",fontsize=20)\n",
    "for col,ax in zip(col_num[1:],axs.flatten()):\n",
    "    b=sns.boxplot(y=df[col],ax=ax,color=\"darksalmon\")\n",
    "    b.set_ylabel(col,fontsize=15)\n",
    "    plt.subplots_adjust(wspace=.25)\n"
   ]
  },
  {
   "cell_type": "code",
   "execution_count": 38,
   "id": "4562db66",
   "metadata": {},
   "outputs": [],
   "source": [
    "Q1=np.percentile(df['annual_income'],25,interpolation='midpoint')\n",
    "Q2=np.percentile(df['annual_income'],50,interpolation='midpoint')\n",
    "Q3=np.percentile(df['annual_income'],75,interpolation='midpoint')\n",
    "\n",
    "IQR = Q3-Q1\n",
    "low_lim = Q1-1.5*IQR\n",
    "up_lim = Q3+1.5*IQR"
   ]
  },
  {
   "cell_type": "code",
   "execution_count": 39,
   "id": "c474a9d7",
   "metadata": {},
   "outputs": [
    {
     "name": "stdout",
     "output_type": "stream",
     "text": [
      "The values of Age below -97585.0 and the values  of Age above 262615.0 are outliers.\n"
     ]
    }
   ],
   "source": [
    "print('The values of annual income below',low_lim,'and the values  of annual income above',up_lim,'are outliers.')"
   ]
  },
  {
   "cell_type": "code",
   "execution_count": 40,
   "id": "1090d78a",
   "metadata": {},
   "outputs": [
    {
     "name": "stdout",
     "output_type": "stream",
     "text": [
      "There are 263 outliers in annual income column. \n",
      "\n",
      "Outliers are: [303500.0, 286600.0, 412400.0, 339900.0, 390600.0, 350200.0, 294000.0, 305300.0, 432600.0, 464500.0, 362400.0, 375600.0, 381700.0, 356400.0, 301600.0, 492900.0, 277200.0, 433600.0, 431200.0, 320400.0, 405000.0, 326200.0, 334600.0, 300900.0, 485300.0, 266000.0, 370900.0, 460200.0, 441100.0, 370700.0, 481500.0, 396600.0, 343700.0, 351900.0, 488000.0, 360400.0, 375100.0, 387600.0, 283700.0, 469400.0, 414400.0, 438100.0, 369400.0, 429800.0, 411000.0, 287800.0, 303300.0, 327200.0, 344400.0, 327800.0, 325300.0, 482300.0, 347500.0, 365400.0, 420600.0, 425300.0, 365600.0, 472100.0, 474300.0, 482900.0, 356800.0, 383500.0, 496600.0, 323200.0, 429700.0, 347800.0, 479900.0, 301100.0, 481200.0, 480200.0, 408400.0, 336200.0, 451900.0, 413800.0, 462500.0, 306500.0, 492900.0, 356400.0, 330400.0, 378800.0, 467900.0, 453000.0, 344600.0, 368300.0, 311700.0, 442100.0, 337100.0, 342500.0, 304700.0, 378900.0, 326100.0, 485000.0, 268600.0, 278200.0, 445500.0, 331700.0, 416600.0, 448600.0, 414700.0, 393500.0, 375700.0, 443400.0, 360200.0, 341100.0, 299200.0, 494100.0, 284100.0, 354700.0, 266100.0, 265200.0, 343400.0, 463900.0, 475400.0, 484200.0, 417800.0, 325700.0, 400000.0, 328200.0, 434100.0, 432100.0, 278400.0, 430800.0, 446300.0, 435900.0, 447600.0, 479800.0, 363300.0, 482700.0, 460400.0, 270600.0, 300200.0, 358900.0, 337300.0, 425300.0, 351800.0, 410500.0, 362100.0, 486700.0, 291500.0, 365000.0, 352600.0, 387300.0, 401700.0, 277200.0, 444900.0, 320000.0, 494700.0, 263700.0, 492600.0, 300100.0, 339700.0, 272600.0, 430300.0, 338700.0, 393100.0, 305000.0, 414600.0, 288600.0, 389200.0, 364400.0, 334700.0, 416400.0, 448100.0, 461100.0, 448500.0, 325400.0, 436700.0, 470700.0, 454100.0, 357300.0, 366100.0, 395100.0, 292700.0, 465800.0, 392400.0, 440000.0, 480500.0, 286800.0, 402900.0, 459700.0, 429600.0, 271600.0, 297800.0, 392800.0, 495800.0, 279200.0, 485800.0, 388500.0, 368700.0, 417800.0, 499000.0, 492600.0, 396900.0, 318000.0, 470100.0, 459700.0, 470700.0, 305000.0, 437200.0, 335400.0, 347100.0, 456600.0, 363300.0, 496700.0, 415900.0, 378400.0, 393400.0, 306200.0, 339200.0, 271000.0, 447400.0, 369700.0, 367500.0, 482900.0, 310000.0, 386900.0, 410300.0, 385400.0, 353600.0, 385700.0, 426100.0, 281400.0, 437200.0, 348800.0, 358600.0, 391800.0, 447100.0, 313700.0, 482400.0, 345600.0, 314000.0, 344600.0, 468700.0, 325500.0, 300900.0, 264400.0, 345000.0, 369600.0, 440800.0, 327200.0, 338400.0, 388600.0, 480300.0, 431500.0, 389900.0, 435700.0, 450800.0, 313900.0, 265300.0, 423000.0, 438000.0, 469800.0, 476500.0, 343000.0, 407500.0, 266600.0, 313800.0, 476900.0, 388100.0, 420400.0, 385800.0, 414700.0, 319000.0]\n"
     ]
    }
   ],
   "source": [
    "outlier=[]\n",
    "for x in df['annual_income']:\n",
    "    if x > up_lim or x < low_lim:\n",
    "        outlier.append(x)\n",
    "        \n",
    "print('There are',len(outlier),'outliers in annual income column.','\\n')\n",
    "print('Outliers are:',outlier)"
   ]
  },
  {
   "cell_type": "code",
   "execution_count": 43,
   "id": "c3604092",
   "metadata": {},
   "outputs": [
    {
     "name": "stdout",
     "output_type": "stream",
     "text": [
      "The index values of the outliers which are above upper limit: Int64Index([   54,    89,   149,   242,   384,   435,   489,   574,   611,\n",
      "              763,\n",
      "            ...\n",
      "            28624, 28758, 28759, 28934, 29072, 29177, 29356, 29384, 29583,\n",
      "            29618],\n",
      "           dtype='int64', length=263) \n",
      "\n"
     ]
    }
   ],
   "source": [
    "ind1=df['annual_income'] > up_lim\n",
    "i1=df.loc[ind1].index\n",
    "\n",
    "print('The index values of the outliers which are above upper limit:',i1,'\\n')\n"
   ]
  },
  {
   "cell_type": "code",
   "execution_count": 44,
   "id": "b8dfd1f1",
   "metadata": {},
   "outputs": [],
   "source": [
    "df.drop(i1,inplace=True)"
   ]
  },
  {
   "cell_type": "code",
   "execution_count": 45,
   "id": "f3d8dbfa",
   "metadata": {},
   "outputs": [
    {
     "data": {
      "image/png": "[encoded data removed]",
      "text/plain": [
       "<Figure size 432x288 with 1 Axes>"
      ]
     },
     "metadata": {
      "needs_background": "light"
     },
     "output_type": "display_data"
    }
   ],
   "source": [
    "plt.boxplot(df['annual_income'])\n",
    "plt.title('Box plot of annual income')\n",
    "plt.show()"
   ]
  },
  {
   "cell_type": "markdown",
   "id": "fa33f770",
   "metadata": {},
   "source": [
    "## Label encoding"
   ]
  },
  {
   "cell_type": "code",
   "execution_count": 46,
   "id": "44c9b138",
   "metadata": {},
   "outputs": [],
   "source": [
    "from sklearn.preprocessing import LabelEncoder\n",
    "lb = LabelEncoder()\n",
    "df['Gender']=lb.fit_transform(df['Gender'])\n",
    "df['City']=lb.fit_transform(df['City'])\n",
    "df['is_Married']=lb.fit_transform(df['is_Married'])\n",
    "df['is_physically_ok']=lb.fit_transform(df['is_physically_ok'])\n",
    "df['job']=lb.fit_transform(df['job'])\n",
    "df['has_taken_car_loan']=lb.fit_transform(df['has_taken_car_loan'])\n",
    "df['preferable_fuel_choice']=lb.fit_transform(df['preferable_fuel_choice'])"
   ]
  },
  {
   "cell_type": "markdown",
   "id": "666b9d85",
   "metadata": {},
   "source": [
    "## Modelling"
   ]
  },
  {
   "cell_type": "code",
   "execution_count": 48,
   "id": "d4dfacad",
   "metadata": {},
   "outputs": [],
   "source": [
    "x = df.drop(\"vehicle_choice\",axis = 1)\n",
    "y = pd.DataFrame(df[\"vehicle_choice\"])"
   ]
  },
  {
   "cell_type": "code",
   "execution_count": 49,
   "id": "a9f2c2b6",
   "metadata": {},
   "outputs": [],
   "source": [
    "from sklearn.model_selection import train_test_split\n",
    "x_train,x_test,y_train,y_test = train_test_split(x,y,random_state=42,test_size=0.3)"
   ]
  },
  {
   "cell_type": "code",
   "execution_count": 64,
   "id": "ecdb36ef",
   "metadata": {},
   "outputs": [],
   "source": [
    "from sklearn.neighbors import KNeighborsClassifier as KNN\n",
    "from sklearn.metrics import accuracy_score\n",
    "# to obtain optimum K value\n",
    "# so we want to create model with varied k value\n",
    "acc_values=[]\n",
    "neighbors=np.arange(60,75)\n",
    "for k in neighbors:\n",
    "    classifier=KNN(n_neighbors=k,metric='minkowski') \n",
    "    classifier.fit(x_train,y_train) \n",
    "    y_pred=classifier.predict(x_test)\n",
    "    acc=accuracy_score(y_test,y_pred) \n",
    "    acc_values.append(acc) "
   ]
  },
  {
   "cell_type": "code",
   "execution_count": 65,
   "id": "b035b4f5",
   "metadata": {},
   "outputs": [
    {
     "data": {
      "text/plain": [
       "Text(0, 0.5, 'accuracy')"
      ]
     },
     "execution_count": 65,
     "metadata": {},
     "output_type": "execute_result"
    },
    {
     "data": {
      "image/png": "[encoded data removed]",
      "text/plain": [
       "<Figure size 432x288 with 1 Axes>"
      ]
     },
     "metadata": {
      "needs_background": "light"
     },
     "output_type": "display_data"
    }
   ],
   "source": [
    "plt.plot(neighbors,acc_values,'o-')\n",
    "plt.xlabel('k-values')\n",
    "plt.ylabel('accuracy')"
   ]
  },
  {
   "cell_type": "code",
   "execution_count": 66,
   "id": "836768c9",
   "metadata": {},
   "outputs": [],
   "source": [
    "from sklearn.linear_model import LogisticRegression\n",
    "from sklearn.tree import DecisionTreeClassifier\n",
    "from sklearn.svm import SVC\n",
    "SEED=42\n",
    "lr=LogisticRegression(random_state=SEED)\n",
    "knn=KNN(n_neighbors=67)\n",
    "dtc=DecisionTreeClassifier(random_state=SEED)\n",
    "svc = SVC(kernel='rbf')\n",
    "classifiers=[('LogisticRegression',lr),('K Nearest Neighbors',knn),('Decision Tree',dtc),('SVM',svc)]"
   ]
  },
  {
   "cell_type": "code",
   "execution_count": 67,
   "id": "0b14560d",
   "metadata": {},
   "outputs": [
    {
     "name": "stdout",
     "output_type": "stream",
     "text": [
      "LogisticRegression:0.217\n",
      "K Nearest Neighbors:0.264\n",
      "Decision Tree:0.918\n",
      "SVM:0.249\n"
     ]
    }
   ],
   "source": [
    "for class_name,clf in classifiers:\n",
    "    clf.fit(x_train,y_train)\n",
    "    y_pred=clf.predict(x_test)\n",
    "    accuracy=accuracy_score(y_test,y_pred)\n",
    "    print('{:s}:{:.3f}'.format(class_name,accuracy))"
   ]
  },
  {
   "cell_type": "code",
   "execution_count": 68,
   "id": "8a84e7c9",
   "metadata": {},
   "outputs": [],
   "source": [
    "from sklearn.ensemble import VotingClassifier\n",
    "from sklearn.ensemble import RandomForestClassifier\n",
    "from sklearn.ensemble import GradientBoostingClassifier\n",
    "from xgboost import XGBClassifier\n",
    "SEED = 42\n",
    "vc=VotingClassifier(estimators=classifiers)\n",
    "rf=RandomForestClassifier()\n",
    "gb=GradientBoostingClassifier()\n",
    "xgb=XGBClassifier()\n",
    "classifiers=[('Voting Classifier',vc),('Random Forest',rf),('Gradient Boosting',gb),('Extreme Gradient Boosting',xgb)]"
   ]
  },
  {
   "cell_type": "code",
   "execution_count": 69,
   "id": "fe1a00e2",
   "metadata": {},
   "outputs": [
    {
     "name": "stdout",
     "output_type": "stream",
     "text": [
      "Voting Classifier:0.370\n",
      "Random Forest:0.947\n",
      "Gradient Boosting:0.881\n",
      "[16:50:53] WARNING: D:\\bld\\xgboost-split_1637426510059\\work\\src\\learner.cc:1115: Starting in XGBoost 1.3.0, the default evaluation metric used with the objective 'multi:softprob' was changed from 'merror' to 'mlogloss'. Explicitly set eval_metric if you'd like to restore the old behavior.\n",
      "Extreme Gradient Boosting:0.945\n"
     ]
    }
   ],
   "source": [
    "for class_name,clf in classifiers:\n",
    "    clf.fit(x_train,y_train)\n",
    "    y_pred=clf.predict(x_test)\n",
    "    accuracy=accuracy_score(y_test,y_pred)\n",
    "    print('{:s}:{:.3f}'.format(class_name,accuracy))"
   ]
  },
  {
   "cell_type": "markdown",
   "id": "6d571756",
   "metadata": {},
   "source": [
    "## Hyper Parameter Tuning of Random Forest"
   ]
  },
  {
   "cell_type": "code",
   "execution_count": 107,
   "id": "f026efd9",
   "metadata": {},
   "outputs": [],
   "source": [
    "param_grid = { \n",
    "    'n_estimators': [100,200,300],\n",
    "    'max_depth' : [20,25,30],\n",
    "    'criterion' :['gini', 'entropy']\n",
    "}"
   ]
  },
  {
   "cell_type": "code",
   "execution_count": 108,
   "id": "62818593",
   "metadata": {},
   "outputs": [
    {
     "data": {
      "text/plain": [
       "{'criterion': 'entropy', 'max_depth': 25, 'n_estimators': 300}"
      ]
     },
     "execution_count": 108,
     "metadata": {},
     "output_type": "execute_result"
    }
   ],
   "source": [
    "from sklearn.model_selection import GridSearchCV\n",
    "CV_rfc = GridSearchCV(estimator=rf, param_grid=param_grid, cv= 5)\n",
    "CV_rfc.fit(x_train, y_train)\n",
    "CV_rfc.best_params_"
   ]
  },
  {
   "cell_type": "code",
   "execution_count": 109,
   "id": "afcb41cb",
   "metadata": {},
   "outputs": [
    {
     "data": {
      "text/plain": [
       "0.948"
      ]
     },
     "execution_count": 109,
     "metadata": {},
     "output_type": "execute_result"
    }
   ],
   "source": [
    "rft = RandomForestClassifier(n_estimators=300,max_depth=25,random_state=42,criterion=\"entropy\")\n",
    "rft.fit(x_train,y_train)\n",
    "y_pred=rft.predict(x_test)\n",
    "round(accuracy_score(y_test,y_pred),3)"
   ]
  },
  {
   "cell_type": "markdown",
   "id": "58a10de1",
   "metadata": {},
   "source": [
    "## Model testing"
   ]
  },
  {
   "cell_type": "code",
   "execution_count": 84,
   "id": "76e4e8ec",
   "metadata": {},
   "outputs": [],
   "source": [
    "test_file = pd.read_csv(\"test.csv\")"
   ]
  },
  {
   "cell_type": "code",
   "execution_count": 71,
   "id": "87e5b77f",
   "metadata": {},
   "outputs": [
    {
     "data": {
      "text/html": [
       "<div>\n",
       "<style scoped>\n",
       "    .dataframe tbody tr th:only-of-type {\n",
       "        vertical-align: middle;\n",
       "    }\n",
       "\n",
       "    .dataframe tbody tr th {\n",
       "        vertical-align: top;\n",
       "    }\n",
       "\n",
       "    .dataframe thead th {\n",
       "        text-align: right;\n",
       "    }\n",
       "</style>\n",
       "<table border=\"1\" class=\"dataframe\">\n",
       "  <thead>\n",
       "    <tr style=\"text-align: right;\">\n",
       "      <th></th>\n",
       "      <th>CustomerID</th>\n",
       "      <th>Age</th>\n",
       "      <th>Gender</th>\n",
       "      <th>City</th>\n",
       "      <th>is_Married</th>\n",
       "      <th>family_size</th>\n",
       "      <th>height</th>\n",
       "      <th>annual_income</th>\n",
       "      <th>job</th>\n",
       "      <th>is_physically_ok</th>\n",
       "      <th>has_taken_car_loan</th>\n",
       "      <th>preferable_fuel_choice</th>\n",
       "    </tr>\n",
       "  </thead>\n",
       "  <tbody>\n",
       "    <tr>\n",
       "      <th>0</th>\n",
       "      <td>CusID_30000</td>\n",
       "      <td>32.0</td>\n",
       "      <td>Female</td>\n",
       "      <td>Delhi</td>\n",
       "      <td>Married</td>\n",
       "      <td>6.0</td>\n",
       "      <td>142.0</td>\n",
       "      <td>150800.0</td>\n",
       "      <td>Service</td>\n",
       "      <td>Yes</td>\n",
       "      <td>No</td>\n",
       "      <td>Diesel</td>\n",
       "    </tr>\n",
       "    <tr>\n",
       "      <th>1</th>\n",
       "      <td>CusID_30001</td>\n",
       "      <td>22.0</td>\n",
       "      <td>Male</td>\n",
       "      <td>Perth</td>\n",
       "      <td>Divorced</td>\n",
       "      <td>4.0</td>\n",
       "      <td>155.0</td>\n",
       "      <td>167000.0</td>\n",
       "      <td>Service</td>\n",
       "      <td>Yes</td>\n",
       "      <td>No</td>\n",
       "      <td>Petrol</td>\n",
       "    </tr>\n",
       "    <tr>\n",
       "      <th>2</th>\n",
       "      <td>CusID_30002</td>\n",
       "      <td>46.0</td>\n",
       "      <td>Female</td>\n",
       "      <td>Barcelona</td>\n",
       "      <td>Married</td>\n",
       "      <td>2.0</td>\n",
       "      <td>NaN</td>\n",
       "      <td>66000.0</td>\n",
       "      <td>Service</td>\n",
       "      <td>Yes</td>\n",
       "      <td>No</td>\n",
       "      <td>Petrol</td>\n",
       "    </tr>\n",
       "    <tr>\n",
       "      <th>3</th>\n",
       "      <td>CusID_30003</td>\n",
       "      <td>35.0</td>\n",
       "      <td>NaN</td>\n",
       "      <td>Kuala Lampur</td>\n",
       "      <td>Single</td>\n",
       "      <td>1.0</td>\n",
       "      <td>137.0</td>\n",
       "      <td>71820.0</td>\n",
       "      <td>Business</td>\n",
       "      <td>Yes</td>\n",
       "      <td>NaN</td>\n",
       "      <td>Petrol</td>\n",
       "    </tr>\n",
       "    <tr>\n",
       "      <th>4</th>\n",
       "      <td>CusID_30004</td>\n",
       "      <td>48.0</td>\n",
       "      <td>Male</td>\n",
       "      <td>Sydney</td>\n",
       "      <td>Married</td>\n",
       "      <td>3.0</td>\n",
       "      <td>162.0</td>\n",
       "      <td>6500.0</td>\n",
       "      <td>Service</td>\n",
       "      <td>Yes</td>\n",
       "      <td>Yes</td>\n",
       "      <td>Hybrid</td>\n",
       "    </tr>\n",
       "  </tbody>\n",
       "</table>\n",
       "</div>"
      ],
      "text/plain": [
       "    CustomerID   Age  Gender          City is_Married  family_size  height  \\\n",
       "0  CusID_30000  32.0  Female         Delhi    Married          6.0   142.0   \n",
       "1  CusID_30001  22.0    Male         Perth   Divorced          4.0   155.0   \n",
       "2  CusID_30002  46.0  Female     Barcelona    Married          2.0     NaN   \n",
       "3  CusID_30003  35.0     NaN  Kuala Lampur     Single          1.0   137.0   \n",
       "4  CusID_30004  48.0    Male        Sydney    Married          3.0   162.0   \n",
       "\n",
       "   annual_income       job is_physically_ok has_taken_car_loan  \\\n",
       "0       150800.0   Service              Yes                 No   \n",
       "1       167000.0   Service              Yes                 No   \n",
       "2        66000.0   Service              Yes                 No   \n",
       "3        71820.0  Business              Yes                NaN   \n",
       "4         6500.0   Service              Yes                Yes   \n",
       "\n",
       "  preferable_fuel_choice  \n",
       "0                 Diesel  \n",
       "1                 Petrol  \n",
       "2                 Petrol  \n",
       "3                 Petrol  \n",
       "4                 Hybrid  "
      ]
     },
     "execution_count": 71,
     "metadata": {},
     "output_type": "execute_result"
    }
   ],
   "source": [
    "df1 = pd.read_csv(\"test.csv\")\n",
    "df1.head()"
   ]
  },
  {
   "cell_type": "code",
   "execution_count": 73,
   "id": "0d23c30f",
   "metadata": {},
   "outputs": [],
   "source": [
    "df1.drop(columns=\"CustomerID\",inplace=True)"
   ]
  },
  {
   "cell_type": "code",
   "execution_count": 76,
   "id": "6b459f39",
   "metadata": {},
   "outputs": [],
   "source": [
    "df1[\"Age\"].fillna(df1[\"Age\"].mean(),inplace=True)\n",
    "df1[\"Gender\"].fillna(df1[\"Gender\"].mode()[0],inplace=True)\n",
    "df1[\"City\"].fillna(df1[\"City\"].mode()[0],inplace=True)\n",
    "df1[\"is_Married\"].fillna(df1[\"is_Married\"].mode()[0],inplace=True)\n",
    "df1[\"family_size\"].fillna(df1[\"family_size\"].mean(),inplace=True)\n",
    "df1[\"height\"].fillna(df1[\"height\"].mean(),inplace=True)\n",
    "df1[\"annual_income\"].fillna(df1[\"annual_income\"].mean(),inplace=True)\n",
    "df1[\"job\"].fillna(df1[\"job\"].mode()[0],inplace=True)\n",
    "df1[\"is_physically_ok\"].fillna(df1[\"is_physically_ok\"].mode()[0],inplace=True)\n",
    "df1[\"has_taken_car_loan\"].fillna(df1[\"has_taken_car_loan\"].mode()[0],inplace=True)\n",
    "df1[\"preferable_fuel_choice\"].fillna(df1[\"preferable_fuel_choice\"].mode()[0],inplace=True)"
   ]
  },
  {
   "cell_type": "code",
   "execution_count": 79,
   "id": "e6a171e5",
   "metadata": {},
   "outputs": [],
   "source": [
    "df1['Gender']=lb.fit_transform(df1['Gender'])\n",
    "df1['City']=lb.fit_transform(df1['City'])\n",
    "df1['is_Married']=lb.fit_transform(df1['is_Married'])\n",
    "df1['is_physically_ok']=lb.fit_transform(df1['is_physically_ok'])\n",
    "df1['job']=lb.fit_transform(df1['job'])\n",
    "df1['has_taken_car_loan']=lb.fit_transform(df1['has_taken_car_loan'])\n",
    "df1['preferable_fuel_choice']=lb.fit_transform(df1['preferable_fuel_choice'])"
   ]
  },
  {
   "cell_type": "code",
   "execution_count": 110,
   "id": "c958bf82",
   "metadata": {},
   "outputs": [
    {
     "name": "stdout",
     "output_type": "stream",
     "text": [
      "['Sports Utility Vehicle' 'Sports Utility Vehicle' 'Sedan' ...\n",
      " 'Pickup-Truck' 'Sports Utility Vehicle' 'Crossover']\n"
     ]
    }
   ],
   "source": [
    "from sklearn.ensemble import RandomForestClassifier\n",
    "rf=RandomForestClassifier(n_estimators=300,max_depth=25,random_state=42,criterion=\"entropy\")\n",
    "rf.fit(x,y)\n",
    "y_pred=rf.predict(df1)\n",
    "print(y_pred)"
   ]
  },
  {
   "cell_type": "code",
   "execution_count": 111,
   "id": "98dfb0aa",
   "metadata": {},
   "outputs": [],
   "source": [
    "test_file[\"vehicle_choice\"] = y_pred"
   ]
  },
  {
   "cell_type": "code",
   "execution_count": 112,
   "id": "c0ec072c",
   "metadata": {},
   "outputs": [
    {
     "data": {
      "text/html": [
       "<div>\n",
       "<style scoped>\n",
       "    .dataframe tbody tr th:only-of-type {\n",
       "        vertical-align: middle;\n",
       "    }\n",
       "\n",
       "    .dataframe tbody tr th {\n",
       "        vertical-align: top;\n",
       "    }\n",
       "\n",
       "    .dataframe thead th {\n",
       "        text-align: right;\n",
       "    }\n",
       "</style>\n",
       "<table border=\"1\" class=\"dataframe\">\n",
       "  <thead>\n",
       "    <tr style=\"text-align: right;\">\n",
       "      <th></th>\n",
       "      <th>CustomerID</th>\n",
       "      <th>vehicle_choice</th>\n",
       "    </tr>\n",
       "  </thead>\n",
       "  <tbody>\n",
       "    <tr>\n",
       "      <th>0</th>\n",
       "      <td>CusID_30000</td>\n",
       "      <td>Sports Utility Vehicle</td>\n",
       "    </tr>\n",
       "    <tr>\n",
       "      <th>1</th>\n",
       "      <td>CusID_30001</td>\n",
       "      <td>Sports Utility Vehicle</td>\n",
       "    </tr>\n",
       "    <tr>\n",
       "      <th>2</th>\n",
       "      <td>CusID_30002</td>\n",
       "      <td>Sedan</td>\n",
       "    </tr>\n",
       "    <tr>\n",
       "      <th>3</th>\n",
       "      <td>CusID_30003</td>\n",
       "      <td>Sportscar</td>\n",
       "    </tr>\n",
       "    <tr>\n",
       "      <th>4</th>\n",
       "      <td>CusID_30004</td>\n",
       "      <td>Crossover</td>\n",
       "    </tr>\n",
       "  </tbody>\n",
       "</table>\n",
       "</div>"
      ],
      "text/plain": [
       "    CustomerID          vehicle_choice\n",
       "0  CusID_30000  Sports Utility Vehicle\n",
       "1  CusID_30001  Sports Utility Vehicle\n",
       "2  CusID_30002                   Sedan\n",
       "3  CusID_30003               Sportscar\n",
       "4  CusID_30004               Crossover"
      ]
     },
     "execution_count": 112,
     "metadata": {},
     "output_type": "execute_result"
    }
   ],
   "source": [
    "sub_file = test_file[[\"CustomerID\",\"vehicle_choice\"]]\n",
    "sub_file.head()"
   ]
  },
  {
   "cell_type": "code",
   "execution_count": 113,
   "id": "948f53c8",
   "metadata": {},
   "outputs": [],
   "source": [
    "sub_file.to_csv(r'C:\\Users\\ab\\Downloads\\Submission.csv',index = False)"
   ]
  }
 ],
 "metadata": {
  "kernelspec": {
   "display_name": "Python 3",
   "language": "python",
   "name": "python3"
  },
  "language_info": {
   "codemirror_mode": {
    "name": "ipython",
    "version": 3
   },
   "file_extension": ".py",
   "mimetype": "text/x-python",
   "name": "python",
   "nbconvert_exporter": "python",
   "pygments_lexer": "ipython3",
   "version": "3.8.8"
  }
 },
 "nbformat": 4,
 "nbformat_minor": 5
}
